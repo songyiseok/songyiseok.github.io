{
  "nbformat": 4,
  "nbformat_minor": 0,
  "metadata": {
    "colab": {
      "provenance": [],
      "authorship_tag": "ABX9TyPJ6YcNsMM3hVGOZwas4F8l",
      "include_colab_link": true
    },
    "kernelspec": {
      "name": "python3",
      "display_name": "Python 3"
    },
    "language_info": {
      "name": "python"
    }
  },
  "cells": [
    {
      "cell_type": "markdown",
      "metadata": {
        "id": "view-in-github",
        "colab_type": "text"
      },
      "source": [
        "<a href=\"https://colab.research.google.com/github/songyiseok/songyiseok.github.io/blob/master/%ED%8C%8C%EC%9D%B4%EC%8D%AC_%ED%80%B4%EC%A6%88(if%EB%AC%B8)%EC%84%9D%EC%86%A1%EC%9D%B4.ipynb\" target=\"_parent\"><img src=\"https://colab.research.google.com/assets/colab-badge.svg\" alt=\"Open In Colab\"/></a>"
      ]
    },
    {
      "cell_type": "code",
      "execution_count": null,
      "metadata": {
        "colab": {
          "base_uri": "https://localhost:8080/"
        },
        "id": "ZJVwhdP1pP08",
        "outputId": "00bbc321-ca97-49d9-8395-261d7facd8b7"
      },
      "outputs": [
        {
          "output_type": "stream",
          "name": "stdout",
          "text": [
            "점수를 입력하세요: 90\n",
            "당신의 학점은 A입니다.\n"
          ]
        }
      ],
      "source": [
        "score = int(input(\"점수를 입력하세요: \"))\n",
        "if score < 0 or score > 100:\n",
        "    print(\"잘못된 점수입니다.\")\n",
        "else:\n",
        "    if score >= 90:\n",
        "        grade = \"A\"\n",
        "    elif score >= 80:\n",
        "        grade = \"B\"\n",
        "    elif score >= 70:\n",
        "        grade = \"C\"\n",
        "    elif score >= 60:\n",
        "        grade = \"D\"\n",
        "    else:\n",
        "        grade = \"F\"\n",
        "    print(f\"당신의 학점은 {grade}입니다.\")\n",
        "\n",
        "\n"
      ]
    }
  ]
}